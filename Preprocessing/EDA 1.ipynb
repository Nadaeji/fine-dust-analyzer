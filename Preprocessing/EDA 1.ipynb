{
 "cells": [
  {
   "cell_type": "code",
   "execution_count": 1,
   "metadata": {},
   "outputs": [],
   "source": [
    "import numpy as np\n",
    "import pandas as pd\n",
    "import matplotlib.pyplot as plt\n",
    "import seaborn as sns\n",
    "from typing import List, Union\n",
    "from sklearn.preprocessing import LabelEncoder\n",
    "import matplotlib.font_manager as fm\n",
    "import matplotlib as mp\n",
    "mp.rc('font',family='AppleGothic')\n",
    "plt.rcParams['axes.unicode_minus'] = False"
   ]
  },
  {
   "cell_type": "code",
   "execution_count": null,
   "metadata": {},
   "outputs": [],
   "source": [
    "def fillna(df,columns,default=0):\n",
    "    for column in columns:\n",
    "        df[column] = df[column].fillna(default)\n",
    "    return df\n",
    "\n",
    "def dropna(df,column_list):\n",
    "    df = df.dropna(subset=column_list,axis=0)\n",
    "    return df\n",
    "def change_type(df,columns,type):\n",
    "    for column in columns:\n",
    "        df[column] = df[column].astype(type)\n",
    "    return df\n",
    "def cleaned_data(df: pd.DataFrame, columns: List[str], value: Union[int, float, List[Union[int, float]]], compare_type: str) -> pd.DataFrame:\n",
    "    if not columns:\n",
    "        raise ValueError(\"컬럼 리스트가 비어있습니다.\")\n",
    "    \n",
    "    if compare_type == \"over\":\n",
    "        if not isinstance(value, (int, float)):\n",
    "            raise TypeError(\"value가 숫자가 아닙니다.\")\n",
    "        for column in columns:\n",
    "            df = df[df[column] < value]\n",
    "    elif compare_type == \"under\":\n",
    "        if not isinstance(value, (int, float)):\n",
    "            raise TypeError(\"value가 숫자가 아닙니다.\")\n",
    "        for column in columns:\n",
    "            df = df[df[column] > value]\n",
    "    elif compare_type == \"between\":\n",
    "        if not isinstance(value, (list, tuple)) or len(value) != 2:\n",
    "            raise TypeError(\"value가 리스트 또는 튜플이 아니거나 길이가 2가 아닙니다.\")\n",
    "        lower, upper = value[0], value[1]\n",
    "        for column in columns:\n",
    "            df = df[(df[column] > lower) & (df[column] < upper)]\n",
    "    else:\n",
    "        raise ValueError(f\"Invalid compare_type: {compare_type}. Use 'over', 'under', or 'between'\")\n",
    "    return df\n"
   ]
  }
 ],
 "metadata": {
  "kernelspec": {
   "display_name": "pystudy_env",
   "language": "python",
   "name": "python3"
  },
  "language_info": {
   "codemirror_mode": {
    "name": "ipython",
    "version": 3
   },
   "file_extension": ".py",
   "mimetype": "text/x-python",
   "name": "python",
   "nbconvert_exporter": "python",
   "pygments_lexer": "ipython3",
   "version": "3.12.9"
  }
 },
 "nbformat": 4,
 "nbformat_minor": 2
}
