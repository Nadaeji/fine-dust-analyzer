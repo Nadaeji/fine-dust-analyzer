{
 "cells": [
  {
   "cell_type": "code",
   "execution_count": 18,
   "metadata": {},
   "outputs": [],
   "source": [
    "import pandas as pd\n",
    "from sklearn.ensemble import RandomForestRegressor\n",
    "from sklearn.preprocessing import StandardScaler\n",
    "from sklearn.model_selection import train_test_split\n",
    "from sklearn.cluster import KMeans\n",
    "import matplotlib.pyplot as plt\n",
    "import plotly.express as px\n",
    "import numpy as np\n"
   ]
  },
  {
   "cell_type": "code",
   "execution_count": 19,
   "metadata": {},
   "outputs": [],
   "source": [
    "data = pd.read_csv(\"../data/pm25_pm10_merged.csv\")  # 파일 경로 수정 필요\n",
    "data['Date'] = pd.to_datetime(data['Date'])\n",
    "initial_centroids = np.array([[5], [17.5], [37.5], [60]])"
   ]
  },
  {
   "cell_type": "code",
   "execution_count": 20,
   "metadata": {},
   "outputs": [],
   "source": [
    "def assign_pm25_cluster(pm25):\n",
    "    if pm25 <= 10:\n",
    "        return 0  # \"좋음\"\n",
    "    elif pm25 <= 25:\n",
    "        return 1  # \"보통\"\n",
    "    elif pm25 <= 50:\n",
    "        return 2  # \"나쁨\"\n",
    "    else:\n",
    "        return 3  # \"매우 나쁨\""
   ]
  },
  {
   "cell_type": "code",
   "execution_count": 21,
   "metadata": {},
   "outputs": [],
   "source": [
    "def train_model(data):\n",
    "    # Pivot 데이터 만들기\n",
    "    pivot_data = data.pivot(index='Date', columns='City', values='PM2.5 (µg/m³)').reset_index().fillna(0)\n",
    "    X = pivot_data[['Beijing']]  # 입력 변수: Beijing PM2.5만 사용\n",
    "    y = pivot_data[['Seoul', 'Tokyo', 'Delhi', 'Bangkok']]  # 출력 변수\n",
    "\n",
    "    # WHO 기준에 맞춰 KMeans 초기 중심 설정\n",
    "    initial_centroids = np.array([[5], [17.5], [37.5], [60]])  # WHO 기준 PM2.5 값 기반\n",
    "\n",
    "    # 데이터 정규화 (KMeans가 거리 기반이므로 스케일링 필요)\n",
    "    scaler = StandardScaler()\n",
    "    X_scaled = scaler.fit_transform(X)\n",
    "\n",
    "    # KMeans로 데이터 군집화\n",
    "    kmeans = KMeans(n_clusters=4, init=initial_centroids, n_init=1, random_state=42)\n",
    "    clusters = kmeans.fit_predict(X_scaled)\n",
    "    pivot_data['Cluster'] = clusters\n",
    "\n",
    "    # 각 군집별로 모델 학습\n",
    "    models = {}\n",
    "    X_tests = {}\n",
    "    y_tests = {}\n",
    "\n",
    "    for cluster in range(kmeans.n_clusters):\n",
    "        cluster_data = pivot_data[pivot_data['Cluster'] == cluster]\n",
    "        X_cluster = cluster_data[['Beijing']]\n",
    "        y_cluster = cluster_data[['Seoul', 'Tokyo', 'Delhi', 'Bangkok']]\n",
    "\n",
    "        if len(X_cluster) > 10:  # 데이터가 너무 적으면 학습하지 않음\n",
    "            X_train, X_test, y_train, y_test = train_test_split(X_cluster, y_cluster, test_size=0.2, random_state=42)\n",
    "            model = RandomForestRegressor(n_estimators=2000, random_state=42)\n",
    "            model.fit(X_train, y_train)\n",
    "            models[cluster] = model\n",
    "            X_tests[cluster] = X_test\n",
    "            y_tests[cluster] = y_test\n",
    "\n",
    "    return models, kmeans, X_tests, y_tests, pivot_data, scaler "
   ]
  },
  {
   "cell_type": "code",
   "execution_count": 22,
   "metadata": {},
   "outputs": [],
   "source": [
    "def predict_pm25(models, kmeans, scaler, beijing_pm25):\n",
    "    beijing_scaled = scaler.transform([[beijing_pm25]])  # 스케일 변환\n",
    "    cluster = kmeans.predict(beijing_scaled)[0]  # 군집 예측\n",
    "    model = models.get(cluster, None)  # 해당 군집 모델 가져오기\n",
    "\n",
    "    if model:\n",
    "        prediction = model.predict([[beijing_pm25]])[0]  # 1차원 리스트로 반환됨\n",
    "        city_names = [\"Seoul\", \"Tokyo\", \"Delhi\", \"Bangkok\"]  # 예측할 도시 리스트\n",
    "        return dict(zip(city_names, prediction))  # 도시명과 예측값 매핑하여 반환\n",
    "    else:\n",
    "        return None\n"
   ]
  },
  {
   "cell_type": "code",
   "execution_count": 23,
   "metadata": {},
   "outputs": [],
   "source": [
    "def score_model(models, X_tests, y_tests):\n",
    "    scores = {}\n",
    "\n",
    "    for cluster, model in models.items():\n",
    "        X_test = X_tests[cluster]\n",
    "        y_test = y_tests[cluster]\n",
    "\n",
    "        # 모델의 R² 스코어 계산\n",
    "        r2_score = model.score(X_test, y_test)\n",
    "\n",
    "        # 결과 저장 (군집별 R² 스코어)\n",
    "        scores[cluster] = r2_score\n",
    "\n",
    "    return scores\n"
   ]
  },
  {
   "cell_type": "code",
   "execution_count": 24,
   "metadata": {},
   "outputs": [],
   "source": [
    "def plot_clusters(pivot_data, kmeans):\n",
    "    plt.scatter(pivot_data['Beijing'], pivot_data['Cluster'], c=pivot_data['Cluster'], cmap='viridis')\n",
    "    plt.colorbar(label=\"Cluster\")\n",
    "    plt.xlabel(\"Beijing PM2.5\")\n",
    "    plt.ylabel(\"Cluster\")\n",
    "    plt.title(\"WHO 기준 KMeans 군집화\")\n",
    "    plt.show()\n"
   ]
  },
  {
   "cell_type": "code",
   "execution_count": 25,
   "metadata": {},
   "outputs": [],
   "source": [
    "city_coords = {\n",
    "    'Seoul': (37.5665, 126.978),\n",
    "    'Tokyo': (35.6895, 139.6917),\n",
    "    'Beijing': (39.9042, 116.4074),\n",
    "    'Delhi': (28.7041, 77.1025),\n",
    "    'Bangkok': (13.7563, 100.5018)\n",
    "}"
   ]
  },
  {
   "cell_type": "code",
   "execution_count": 26,
   "metadata": {},
   "outputs": [
    {
     "name": "stderr",
     "output_type": "stream",
     "text": [
      "/opt/anaconda3/envs/pystudy_env/lib/python3.12/site-packages/IPython/core/pylabtools.py:170: UserWarning: Glyph 44592 (\\N{HANGUL SYLLABLE GI}) missing from current font.\n",
      "  fig.canvas.print_figure(bytes_io, **kw)\n",
      "/opt/anaconda3/envs/pystudy_env/lib/python3.12/site-packages/IPython/core/pylabtools.py:170: UserWarning: Glyph 51456 (\\N{HANGUL SYLLABLE JUN}) missing from current font.\n",
      "  fig.canvas.print_figure(bytes_io, **kw)\n",
      "/opt/anaconda3/envs/pystudy_env/lib/python3.12/site-packages/IPython/core/pylabtools.py:170: UserWarning: Glyph 44400 (\\N{HANGUL SYLLABLE GUN}) missing from current font.\n",
      "  fig.canvas.print_figure(bytes_io, **kw)\n",
      "/opt/anaconda3/envs/pystudy_env/lib/python3.12/site-packages/IPython/core/pylabtools.py:170: UserWarning: Glyph 51665 (\\N{HANGUL SYLLABLE JIB}) missing from current font.\n",
      "  fig.canvas.print_figure(bytes_io, **kw)\n",
      "/opt/anaconda3/envs/pystudy_env/lib/python3.12/site-packages/IPython/core/pylabtools.py:170: UserWarning: Glyph 54868 (\\N{HANGUL SYLLABLE HWA}) missing from current font.\n",
      "  fig.canvas.print_figure(bytes_io, **kw)\n"
     ]
    },
    {
     "data": {
      "image/png": "[encoded data removed]",
      "text/plain": [
       "<Figure size 640x480 with 2 Axes>"
      ]
     },
     "metadata": {},
     "output_type": "display_data"
    },
    {
     "name": "stderr",
     "output_type": "stream",
     "text": [
      "/opt/anaconda3/envs/pystudy_env/lib/python3.12/site-packages/sklearn/utils/validation.py:2739: UserWarning: X does not have valid feature names, but StandardScaler was fitted with feature names\n",
      "  warnings.warn(\n",
      "/opt/anaconda3/envs/pystudy_env/lib/python3.12/site-packages/sklearn/utils/validation.py:2739: UserWarning: X does not have valid feature names, but RandomForestRegressor was fitted with feature names\n",
      "  warnings.warn(\n"
     ]
    }
   ],
   "source": [
    "models, kmeans, X_tests, y_tests, pivot_data, scaler = train_model(data)\n",
    "plot_clusters(pivot_data, kmeans)\n",
    "\n",
    "predicted_pm25 = predict_pm25(models, kmeans, scaler, 30)"
   ]
  },
  {
   "cell_type": "code",
   "execution_count": 27,
   "metadata": {},
   "outputs": [
    {
     "name": "stdout",
     "output_type": "stream",
     "text": [
      "예측된 PM2.5 값: {'Seoul': 16.611482573036902, 'Tokyo': 11.828586500506688, 'Delhi': 74.98581730835984, 'Bangkok': 28.011488216073822}\n"
     ]
    }
   ],
   "source": [
    "print(\"예측된 PM2.5 값:\", predicted_pm25)"
   ]
  },
  {
   "cell_type": "code",
   "execution_count": 28,
   "metadata": {},
   "outputs": [
    {
     "name": "stdout",
     "output_type": "stream",
     "text": [
      "Cluster\n",
      "1     23.369116\n",
      "0     88.568711\n",
      "3    185.828816\n",
      "2    344.597072\n",
      "Name: Beijing, dtype: float64\n"
     ]
    }
   ],
   "source": [
    "cluster_means = pivot_data.groupby(\"Cluster\")[\"Beijing\"].mean().sort_values()\n",
    "print(cluster_means)"
   ]
  },
  {
   "cell_type": "code",
   "execution_count": 29,
   "metadata": {},
   "outputs": [],
   "source": [
    "# 실제 WHO 기준과 매칭되는 클러스터 번호를 정렬 후 매핑\n",
    "cluster_map = {cluster_means.index[0]: \"좋음\",\n",
    "               cluster_means.index[1]: \"보통\",\n",
    "               cluster_means.index[2]: \"나쁨\",\n",
    "               cluster_means.index[3]: \"매우 나쁨\"}\n",
    "\n",
    "# 기존 Cluster 값을 WHO 등급으로 변환\n",
    "pivot_data[\"Cluster_Label\"] = pivot_data[\"Cluster\"].map(cluster_map)\n",
    "\n"
   ]
  },
  {
   "cell_type": "code",
   "execution_count": 30,
   "metadata": {},
   "outputs": [
    {
     "data": {
      "text/html": [
       "<div>\n",
       "<style scoped>\n",
       "    .dataframe tbody tr th:only-of-type {\n",
       "        vertical-align: middle;\n",
       "    }\n",
       "\n",
       "    .dataframe tbody tr th {\n",
       "        vertical-align: top;\n",
       "    }\n",
       "\n",
       "    .dataframe thead th {\n",
       "        text-align: right;\n",
       "    }\n",
       "</style>\n",
       "<table border=\"1\" class=\"dataframe\">\n",
       "  <thead>\n",
       "    <tr style=\"text-align: right;\">\n",
       "      <th></th>\n",
       "      <th>Cluster</th>\n",
       "      <th>R² Score</th>\n",
       "      <th>WHO Level</th>\n",
       "    </tr>\n",
       "  </thead>\n",
       "  <tbody>\n",
       "    <tr>\n",
       "      <th>0</th>\n",
       "      <td>0</td>\n",
       "      <td>-0.347360</td>\n",
       "      <td>보통</td>\n",
       "    </tr>\n",
       "    <tr>\n",
       "      <th>1</th>\n",
       "      <td>1</td>\n",
       "      <td>-0.212806</td>\n",
       "      <td>좋음</td>\n",
       "    </tr>\n",
       "    <tr>\n",
       "      <th>2</th>\n",
       "      <td>2</td>\n",
       "      <td>-0.202968</td>\n",
       "      <td>매우 나쁨</td>\n",
       "    </tr>\n",
       "    <tr>\n",
       "      <th>3</th>\n",
       "      <td>3</td>\n",
       "      <td>-0.364319</td>\n",
       "      <td>나쁨</td>\n",
       "    </tr>\n",
       "  </tbody>\n",
       "</table>\n",
       "</div>"
      ],
      "text/plain": [
       "   Cluster  R² Score WHO Level\n",
       "0        0 -0.347360        보통\n",
       "1        1 -0.212806        좋음\n",
       "2        2 -0.202968     매우 나쁨\n",
       "3        3 -0.364319        나쁨"
      ]
     },
     "execution_count": 30,
     "metadata": {},
     "output_type": "execute_result"
    }
   ],
   "source": [
    "scores = score_model(models, X_tests, y_tests)\n",
    "\n",
    "# 군집별 R² 점수를 DataFrame으로 변환\n",
    "score_df = pd.DataFrame(scores.items(), columns=[\"Cluster\", \"R² Score\"])\n",
    "\n",
    "# WHO 등급과 매칭하여 추가 정보 제공 (이전 cluster_map 활용)\n",
    "score_df[\"WHO Level\"] = score_df[\"Cluster\"].map(cluster_map)  # \"좋음\", \"보통\" 등 매칭\n",
    "\n",
    "# DataFrame 시각적으로 표시\n",
    "\n",
    "score_df"
   ]
  },
  {
   "cell_type": "code",
   "execution_count": 33,
   "metadata": {},
   "outputs": [
    {
     "name": "stdout",
     "output_type": "stream",
     "text": [
      "혼동행렬:\n",
      " [[85 81]\n",
      " [45 79]]\n",
      "정확도: 0.5655, 정밀도: 0.4938, 재현율: 0.6371 f1_score : 0.55634\n"
     ]
    }
   ],
   "source": [
    "from sklearn.metrics import confusion_matrix, accuracy_score, precision_score, recall_score\n",
    "from sklearn.metrics import f1_score\n",
    "import numpy as np\n",
    "\n",
    "# 평가 함수 정의\n",
    "def evaluate_binary_classification(y_true, y_pred):\n",
    "    print('혼동행렬:\\n', confusion_matrix(y_true, y_pred))\n",
    "    print(f'정확도: {accuracy_score(y_true, y_pred):.4f}, 정밀도: {precision_score(y_true, y_pred):.4f}, 재현율: {recall_score(y_true, y_pred):.4f} f1_score : {f1_score(y_true,y_pred):.5f}')\n",
    "\n",
    "# 1. 실제 값 (y_true) 가져오기\n",
    "y_true = y_tests[0][\"Seoul\"].values  # Cluster 0의 실제 PM2.5 값\n",
    "\n",
    "# 2. 모델 예측값 (y_pred) 생성\n",
    "y_pred = models[0].predict(X_tests[0])  # 다중 출력 예측값 (2D 배열)\n",
    "\n",
    "# 3. **Seoul 데이터만 선택하여 1D 배열로 변환**\n",
    "y_pred_seoul = y_pred[:, 0]  # 첫 번째 열(Seoul)만 선택\n",
    "\n",
    "# 4. 이진 분류 변환 (PM2.5 값이 특정 기준 이상이면 1, 아니면 0)\n",
    "threshold = 35  # WHO 기준\n",
    "y_true_binary = (y_true >= threshold).astype(int)  # 실제값 변환\n",
    "y_pred_binary = (y_pred_seoul >= threshold).astype(int)  # 예측값 변환\n",
    "\n",
    "# 5. 평가 함수 실행\n",
    "evaluate_binary_classification(y_true_binary, y_pred_binary)\n"
   ]
  },
  {
   "cell_type": "code",
   "execution_count": null,
   "metadata": {},
   "outputs": [],
   "source": []
  }
 ],
 "metadata": {
  "kernelspec": {
   "display_name": "pystudy_env",
   "language": "python",
   "name": "python3"
  },
  "language_info": {
   "codemirror_mode": {
    "name": "ipython",
    "version": 3
   },
   "file_extension": ".py",
   "mimetype": "text/x-python",
   "name": "python",
   "nbconvert_exporter": "python",
   "pygments_lexer": "ipython3",
   "version": "3.12.9"
  }
 },
 "nbformat": 4,
 "nbformat_minor": 2
}
